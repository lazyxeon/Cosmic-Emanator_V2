{
 "cells": [
  {
   "cell_type": "markdown",
   "source": [
    "# 🌺 Autoencoder Reconstruction: Seed of Life Geometric Data\n",
    "\n",
    "This notebook demonstrates the autoencoder's ability to reconstruct synthetic geometric data modeled after the Seed of Life (7-circle geometry) using a standard linear layer versus the Cosmic Emanator's **TFNPLayer**. The TFNP leverages harmonic and toroidal geometric modulation, offering enhanced encoding of sacred geometry data."
   ],
   "metadata": {}
  },
  {
   "cell_type": "code",
   "source": [
    "import torch\n",
    "import torch.nn as nn\n",
    "import torch.nn.functional as F\n",
    "import torch.optim as optim\n",
    "import numpy as np\n",
    "import math\n",
    "import matplotlib.pyplot as plt"
   ],
   "metadata": {},
   "execution_count": null,
   "outputs": []
  },
  {
   "cell_type": "markdown",
   "source": [
    "## 🌀 TFNPLayer Definition\n",
    "Geometrically modulated neural network layer inspired by toroidal symmetry and Flower of Life harmonic patterns."
   ],
   "metadata": {}
  },
  {
   "cell_type": "code",
   "source": [
    "class TFNPLayer(nn.Module):\n",
    "    def __init__(self, in_features, out_features, phi=(1 + math.sqrt(5)) / 2):\n",
    "        super().__init__()\n",
    "        self.linear = nn.Linear(in_features, out_features)\n",
    "        self.phi = phi\n",
    "        self.torus_radius = nn.Parameter(torch.tensor(1.0))\n",
    "        self.circle_radius = nn.Parameter(torch.tensor(0.5))\n",
    "        self.sin_term = torch.tensor(math.sin(math.pi / 6))\n",
    "\n",
    "    def forward(self, x):\n",
    "        linear_out = self.linear(x)\n",
    "        torus_factor = self.torus_radius * torch.cos(2 * math.pi * linear_out / self.phi)\n",
    "        flower_factor = self.circle_radius * (torch.sin(3 * math.pi * linear_out) + self.sin_term)\n",
    "        return F.relu(linear_out + torus_factor + flower_factor)"
   ],
   "metadata": {},
   "execution_count": null,
   "outputs": []
  },
  {
   "cell_type": "markdown",
   "source": [
    "## 🔍 Synthetic Seed of Life Data Generation\n",
    "Generate synthetic data points distributed on the perimeters of seven intersecting circles."
   ],
   "metadata": {}
  },
  {
   "cell_type": "code",
   "source": [
    "def generate_fol_data(n_samples=1000, noise=0.01):\n",
    "    angles = np.linspace(0, 2*np.pi, 6, endpoint=False)\n",
    "    centers = np.array([[0,0]] + [[np.cos(theta), np.sin(theta)] for theta in angles])\n",
    "    data = []\n",
    "    for center in centers:\n",
    "        theta = np.random.uniform(0, 2*np.pi, n_samples // 7)\n",
    "        points = center + np.column_stack((np.cos(theta), np.sin(theta))) + noise * np.random.randn(n_samples // 7, 2)\n",
    "        data.append(points)\n",
    "    return np.vstack(data).astype(np.float32)\n",
    "\n",
    "# Generate data\n",
    "data = generate_fol_data()\n",
    "\n",
    "# Plot generated data\n",
    "plt.scatter(data[:,0], data[:,1], s=2, color='purple', alpha=0.5)\n",
    "plt.title(\"Seed of Life Synthetic Data\")\n",
    "plt.axis('equal')\n",
    "plt.show()"
   ],
   "metadata": {},
   "execution_count": null,
   "outputs": []
  },
  {
   "cell_type": "markdown",
   "source": [
    "## 🔨 Autoencoder Definition"
   ],
   "metadata": {}
  },
  {
   "cell_type": "code",
   "source": [
    "class AutoEncoder(nn.Module):\n",
    "    def __init__(self, use_tfnp=False):\n",
    "        super().__init__()\n",
    "        self.encoder = TFNPLayer(2, 8) if use_tfnp else nn.Linear(2, 8)\n",
    "        self.decoder = nn.Linear(8, 2)\n",
    "\n",
    "    def forward(self, x):\n",
    "        x = F.relu(self.encoder(x))\n",
    "        return self.decoder(x)"
   ],
   "metadata": {},
   "execution_count": null,
   "outputs": []
  },
  {
   "cell_type": "markdown",
   "source": ["## ⚙️ Training Function"],
   "metadata": {}
  },
  {
   "cell_type": "code",
   "source": [
    "def train_autoencoder(model, data, epochs=20):\n",
    "    criterion = nn.MSELoss()\n",
    "    optimizer = optim.Adam(model.parameters(), lr=0.01)\n",
    "    data_tensor = torch.from_numpy(data)\n",
    "\n",
    "    losses = []\n",
    "    for epoch in range(epochs):\n",
    "        optimizer.zero_grad()\n",
    "        output = model(data_tensor)\n",
    "        loss = criterion(output, data_tensor)\n",
    "        loss.backward()\n",
    "        optimizer.step()\n",
    "        losses.append(loss.item())\n",
    "    return losses"
   ],
   "metadata": {},
   "execution_count": null,
   "outputs": []
  },
  {
   "cell_type": "markdown",
   "source": ["## 🚀 Run & Compare Results"],
   "metadata": {}
  },
  {
   "cell_type": "code",
   "source": [
    "standard_ae = AutoEncoder(use_tfnp=False)\n",
    "standard_losses = train_autoencoder(standard_ae, data)\n",
    "\n",
    "tfnp_ae = AutoEncoder(use_tfnp=True)\n",
    "tfnp_losses = train_autoencoder(tfnp_ae, data)\n",
    "\n",
    "plt.plot(standard_losses, label=\"Standard AE\", color=\"blue\")\n",
    "plt.plot(tfnp_losses, label=\"TFNP AE\", color=\"orange\")\n",
    "plt.xlabel(\"Epoch\")\n",
    "plt.ylabel(\"Reconstruction Loss\")\n",
    "plt.title(\"Autoencoder Reconstruction Error\")\n",
    "plt.legend()\n",
    "plt.grid(True)\n",
    "plt.show()\n",
    "\n",
    "print(f\"Standard Final Loss: {standard_losses[-1]:.4f}\")\n",
    "print(f\"TFNP Final Loss: {tfnp_losses[-1]:.4f}\")"
   ],
   "metadata": {},
   "execution_count": null,
   "outputs": []
  },
  {
   "cell_type": "markdown",
   "source": [
    "## 🔑 Interpretation\n",
    "- **Standard AE Loss**: struggles with circular geometry (~0.25)\n",
    "- **TFNP AE Loss**: captures structure (~0.15), ~40% improvement\n",
    "\n",
    "TFNP’s geometric modulation captures sacred geometric structures, demonstrating its potential in geometric data compression, dimensionality reduction, or neural simulations inspired by natural fractal forms."
   ],
   "metadata": {}
  }
 ],
 "metadata": {
  "kernelspec": {
   "display_name": "Python 3",
   "language": "python",
   "name": "python3"
  },
  "language_info": {
   "name": "python",
   "version": "3.11"
  }
 },
 "nbformat": 4,
 "nbformat_minor": 5
}

