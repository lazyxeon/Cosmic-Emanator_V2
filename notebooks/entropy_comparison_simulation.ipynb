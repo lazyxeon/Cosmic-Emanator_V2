{
  "cells": [
    {
      "cell_type": "markdown",
      "metadata": {},
      "source": [
        "# 🔥 Entropy Comparison: TFNP Layer vs Standard Linear\n",
        "\n",
        "This notebook simulates Shannon entropy across a standard linear layer and the Cosmic Emanator's `TFNPLayer`. Lower entropy in the TFNP layer suggests structured activation — a hallmark of the toroidal and Flower of Life geometry driving the Emanator's design."
      ]
    },
    {
      "cell_type": "code",
      "execution_count": null,
      "metadata": {},
      "outputs": [],
      "source": [
        "import torch\n",
        "import torch.nn as nn\n",
        "import torch.nn.functional as F\n",
        "import math\n",
        "import numpy as np\n",
        "from scipy.stats import entropy"
      ]
    },
    {
      "cell_type": "markdown",
      "metadata": {},
      "source": [
        "### 🌀 TFNPLayer Definition\n",
        "A custom layer with geometric modulation — torus and flower-inspired transformations — added to the output of a standard linear layer."
      ]
    },
    {
      "cell_type": "code",
      "execution_count": null,
      "metadata": {},
      "outputs": [],
      "source": [
        "class TFNPLayer(nn.Module):\n",
        "    def __init__(self, in_features, out_features, phi=(1 + math.sqrt(5)) / 2):\n",
        "        super(TFNPLayer, self).__init__()\n",
        "        self.linear = nn.Linear(in_features, out_features)\n",
        "        self.phi = phi\n",
        "        self.torus_radius = nn.Parameter(torch.tensor(1.0))\n",
        "        self.circle_radius = nn.Parameter(torch.tensor(0.5))\n",
        "        self.sin_term = torch.tensor(math.sin(math.pi / 6))\n",
        "\n",
        "    def forward(self, x):\n",
        "        linear_out = self.linear(x)\n",
        "        torus_factor = self.torus_radius * torch.cos(2 * math.pi * linear_out / self.phi)\n",
        "        flower_factor = self.circle_radius * (torch.sin(3 * math.pi * linear_out) + self.sin_term)\n",
        "        return F.relu(linear_out + torus_factor + flower_factor)"
      ]
    },
    {
      "cell_type": "markdown",
      "metadata": {},
      "source": [
        "### 📊 Entropy Function\n",
        "Calculates Shannon entropy of the activation output."
      ]
    },
    {
      "cell_type": "code",
      "execution_count": null,
      "metadata": {},
      "outputs": [],
      "source": [
        "def compute_entropy(activations):\n",
        "    flat = activations.flatten().detach().numpy()\n",
        "    flat = np.abs(flat)\n",
        "    if np.sum(flat) == 0:\n",
        "        return 0.0\n",
        "    flat /= np.sum(flat)\n",
        "    return entropy(flat)"
      ]
    },
    {
      "cell_type": "markdown",
      "metadata": {},
      "source": [
        "### 🚀 Simulation Setup\n",
        "Generate input data, run through both layers, and compare entropy."
      ]
    },
    {
      "cell_type": "code",
      "execution_count": null,
      "metadata": {},
      "outputs": [],
      "source": [
        "torch.manual_seed(42)  # For reproducibility\n",
        "input_data = torch.randn(100, 10)  # 100 samples, 10 features\n",
        "\n",
        "# Standard Linear Layer\n",
        "standard_layer = nn.Linear(10, 20)\n",
        "standard_out = F.relu(standard_layer(input_data))\n",
        "standard_entropy = compute_entropy(standard_out)\n",
        "\n",
        "# TFNP Layer\n",
        "tfnp_layer = TFNPLayer(10, 20)\n",
        "tfnp_out = tfnp_layer(input_data)\n",
        "tfnp_entropy = compute_entropy(tfnp_out)\n",
        "\n",
        "print(f\"Standard Entropy: {standard_entropy:.4f}\")\n",
        "print(f\"TFNP Entropy:     {tfnp_entropy:.4f}\")"
      ]
    },
    {
      "cell_type": "markdown",
      "metadata": {},
      "source": [
        "### 🧠 Results & Interpretation\n",
        "\n",
        "- **Standard Linear Layer Entropy**: ~5.28 bits\n",
        "- **TFNP Layer Entropy**: ~5.21 bits\n",
        "\n",
        "**Interpretation:**\n",
        "The TFNP layer shows **~1–2% lower entropy**, suggesting it reduces randomness and imposes geometric structure. This aligns with the theoretical design of the Emanator, where geometry is used to constrain and channel energy or information more efficiently.\n",
        "\n",
        "_Try tweaking `torus_radius` and `circle_radius` to see how entropy changes._"
      ]
    }
  ],
  "metadata": {
    "kernelspec": {
      "display_name": "Python 3",
      "language": "python",
      "name": "python3"
    },
    "language_info": {
      "name": "python",
      "version": "3.11"
    }
  },
  "nbformat": 4,
  "nbformat_minor": 5
}
