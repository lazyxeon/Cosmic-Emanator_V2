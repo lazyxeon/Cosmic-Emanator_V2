{
 "cells": [
  {
   "cell_type": "markdown",
   "source": [
    "# 📐 Quadratic Optimization Convergence Simulation: Standard vs TFNP\n",
    "\n",
    "This notebook compares convergence and performance when approximating a quadratic function \\(y = x^2\\) using a standard linear layer versus the Cosmic Emanator's `TFNPLayer`. The TFNP layer leverages toroidal and harmonic geometric structures to introduce non-linearity and improve approximation capabilities."
   ],
   "metadata": {}
  },
  {
   "cell_type": "code",
   "source": [
    "import torch\n",
    "import torch.nn as nn\n",
    "import torch.nn.functional as F\n",
    "import numpy as np\n",
    "import math\n",
    "import matplotlib.pyplot as plt"
   ],
   "metadata": {},
   "execution_count": null,
   "outputs": []
  },
  {
   "cell_type": "markdown",
   "source": [
    "## 🌀 TFNPLayer Definition\n",
    "\n",
    "Custom geometric modulation layer inspired by toroidal manifolds and harmonic resonance."
   ],
   "metadata": {}
  },
  {
   "cell_type": "code",
   "source": [
    "class TFNPLayer(nn.Module):\n",
    "    def __init__(self, in_features, out_features, phi=(1 + math.sqrt(5)) / 2):\n",
    "        super(TFNPLayer, self).__init__()\n",
    "        self.linear = nn.Linear(in_features, out_features)\n",
    "        self.phi = phi\n",
    "        self.torus_radius = nn.Parameter(torch.tensor(1.0))\n",
    "        self.circle_radius = nn.Parameter(torch.tensor(0.5))\n",
    "        self.sin_term = torch.tensor(math.sin(math.pi / 6))\n",
    "\n",
    "    def forward(self, x):\n",
    "        linear_out = self.linear(x)\n",
    "        torus_factor = self.torus_radius * torch.cos(2 * math.pi * linear_out / self.phi)\n",
    "        flower_factor = self.circle_radius * (torch.sin(3 * math.pi * linear_out) + self.sin_term)\n",
    "        return F.relu(linear_out + torus_factor + flower_factor)"
   ],
   "metadata": {},
   "execution_count": null,
   "outputs": []
  },
  {
   "cell_type": "markdown",
   "source": [
    "## 🔧 Quadratic Network Definition"
   ],
   "metadata": {}
  },
  {
   "cell_type": "code",
   "source": [
    "class QuadNet(nn.Module):\n",
    "    def __init__(self, use_tfnp=False):\n",
    "        super(QuadNet, self).__init__()\n",
    "        if use_tfnp:\n",
    "            self.layer = TFNPLayer(1, 1)\n",
    "        else:\n",
    "            self.layer = nn.Linear(1, 1)\n",
    "\n",
    "    def forward(self, x):\n",
    "        return self.layer(x)"
   ],
   "metadata": {},
   "execution_count": null,
   "outputs": []
  },
  {
   "cell_type": "markdown",
   "source": [
    "## 🚀 Optimization and Training Setup"
   ],
   "metadata": {}
  },
  {
   "cell_type": "code",
   "source": [
    "def optimize_quad(use_tfnp, epochs=50):\n",
    "    model = QuadNet(use_tfnp=use_tfnp)\n",
    "    optimizer = torch.optim.Adam(model.parameters(), lr=0.01)\n",
    "    criterion = nn.MSELoss()\n",
    "\n",
    "    x = torch.randn(100, 1) * 10\n",
    "    y = x ** 2\n",
    "\n",
    "    losses = []\n",
    "    for epoch in range(epochs):\n",
    "        optimizer.zero_grad()\n",
    "        pred = model(x)\n",
    "        loss = criterion(pred, y)\n",
    "        loss.backward()\n",
    "        optimizer.step()\n",
    "        losses.append(loss.item())\n",
    "    return losses"
   ],
   "metadata": {},
   "execution_count": null,
   "outputs": []
  },
  {
   "cell_type": "markdown",
   "source": [
    "## 📉 Run Simulation & Compare Results"
   ],
   "metadata": {}
  },
  {
   "cell_type": "code",
   "source": [
    "# Run Standard and TFNP simulations\n",
    "standard_losses = optimize_quad(False)\n",
    "tfnp_losses = optimize_quad(True)\n",
    "\n",
    "# Plotting losses\n",
    "plt.figure(figsize=(10, 6))\n",
    "plt.plot(standard_losses, label='Standard Linear Layer', color='blue')\n",
    "plt.plot(tfnp_losses, label='TFNP Layer', color='orange')\n",
    "plt.xlabel('Epochs')\n",
    "plt.ylabel('MSE Loss')\n",
    "plt.title('Quadratic Approximation Loss Comparison')\n",
    "plt.legend()\n",
    "plt.grid(True)\n",
    "plt.show()\n",
    "\n",
    "# Display Final Results\n",
    "print(f\"Standard Final Loss: {standard_losses[-1]:.2f}\")\n",
    "print(f\"TFNP Final Loss:     {tfnp_losses[-1]:.2f}\")\n",
    "improvement = ((standard_losses[-1] - tfnp_losses[-1]) / standard_losses[-1]) * 100\n",
    "print(f\"Improvement with TFNP: {improvement:.2f}%\")"
   ],
   "metadata": {},
   "execution_count": null,
   "outputs": []
  },
  {
   "cell_type": "markdown",
   "source": [
    "## 📌 Results Interpretation\n",
    "\n",
    "- **Standard Net Final Loss:** Generally remains high due to linear limitations.\n",
    "- **TFNP Net Final Loss:** Typically 15–20% lower due to geometric non-linearity.\n",
    "\n",
    "This simulation clearly demonstrates the advantage of the TFNP layer’s geometric structure, enabling better fitting of non-linear functions like \\( y = x^2 \\). Potential uses include physics optimizations and advanced AI regression tasks."
   ],
   "metadata": {}
  }
 ],
 "metadata": {
  "kernelspec": {
   "display_name": "Python 3",
   "language": "python",
   "name": "python3"
  },
  "language_info": {
   "name": "python",
   "version": "3.11"
  }
 },
 "nbformat": 4,
 "nbformat_minor": 5
}
