import qutip as qt
import numpy as np
from scipy.linalg import logm

def von_neumann_entropy(rho):
    # Compute -Tr(rho log rho), handle small evals
    evals = np.linalg.eigvalsh(rho.full())
    evals = evals[evals > 1e-10]  # Avoid log0
    return -np.sum(evals * np.log(evals))

N = 13  # Fruit nodes
gamma = 1.0
omega_base = 1.0
phi = (1 + np.sqrt(5)) / 2

# Operators for each atom
sigmap_list = [qt.tensor([qt.qeye(2)]*i + [qt.sigmap()] + [qt.qeye(2)]*(N-i-1)) for i in range(N)]
sigmam_list = [op.dag() for op in sigmap_list]
sigmaz_list = [qt.tensor([qt.qeye(2)]*i + [qt.sigmaz()] + [qt.qeye(2)]*(N-i-1)) for i in range(N)]

# Hamiltonian: φ-modulated frequencies
H_phi = sum(omega_base * phi**(i % 13) * sigmaz_list[i] / 2 for i in range(N))

# Collective collapse: sqrt(gamma) * J_minus
J_minus = sum(sigmam_list)
c_ops_phi = [np.sqrt(gamma) * J_minus]

# Initial: All excited for superradiance
initial = qt.tensor([qt.basis(2, 1)] * N)

# Time
tlist = np.linspace(0, 10 / gamma, 200)

# Solve
result_phi = qt.mesolve(H_phi, initial, tlist, c_ops_phi)

# Population (excited atoms)
pop_phi = [qt.expect(sum(sigmap.dag() * sigmap for sigmap in sigmap_list), state) for state in result_phi.states]

# Entropies
ent_phi = [von_neumann_entropy(state) for state in result_phi.states]

# Base (no phi)
H_base = sum(omega_base * sigmaz_list[i] / 2 for i in range(N))
result_base = qt.mesolve(H_base, initial, tlist, c_ops_phi)
pop_base = [qt.expect(sum(sigmap.dag() * sigmap for sigmap in sigmap_list), state) for state in result_base.states]
ent_base = [von_neumann_entropy(state) for state in result_base.states]

print(f"Phi Pop sample: {pop_phi[:5]}")
print(f"Phi Entropy sample: {ent_phi[:5]}")
print(f"Base Pop sample: {pop_base[:5]}")
print(f"Base Entropy sample: {ent_base[:5]}")
