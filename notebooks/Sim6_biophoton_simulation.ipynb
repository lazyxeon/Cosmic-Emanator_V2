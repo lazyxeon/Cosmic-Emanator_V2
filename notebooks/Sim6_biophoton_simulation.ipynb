
# Biophoton Emission Simulation with φ-Modulated Coupling
# File: biophoton_simulation.ipynb

# Simulates coherent biophoton emission from a 13-atom quantum system inspired by the Fruit of Life and golden ratio (φ) modulation.

import qutip as qt
import numpy as np
import matplotlib.pyplot as plt

def von_neumann_entropy(rho):
    evals = np.linalg.eigvalsh(rho.full())
    evals = evals[evals > 1e-10]
    return -np.sum(evals * np.log(evals))

# Parameters
N = 13  # Fruit of Life nodes
gamma = 1.0
omega_base = 1.0
phi = (1 + np.sqrt(5)) / 2
tlist = np.linspace(0, 10 / gamma, 200)

# Operators for each atom
sigmap_list = [qt.tensor([qt.qeye(2)]*i + [qt.sigmap()] + [qt.qeye(2)]*(N-i-1)) for i in range(N)]
sigmam_list = [op.dag() for op in sigmap_list]
sigmaz_list = [qt.tensor([qt.qeye(2)]*i + [qt.sigmaz()] + [qt.qeye(2)]*(N-i-1)) for i in range(N)]

# Hamiltonians
H_phi = sum(omega_base * phi**(i % 13) * sigmaz_list[i] / 2 for i in range(N))
H_base = sum(omega_base * sigmaz_list[i] / 2 for i in range(N))

# Collective collapse
J_minus = sum(sigmam_list)
c_ops = [np.sqrt(gamma) * J_minus]

# Initial state: all excited
initial = qt.tensor([qt.basis(2, 1)] * N)

# Simulate φ-modulated
result_phi = qt.mesolve(H_phi, initial, tlist, c_ops)
pop_phi = [qt.expect(sum(sigmap.dag() * sigmap for sigmap in sigmap_list), state) for state in result_phi.states]
ent_phi = [von_neumann_entropy(state) for state in result_phi.states]

# Simulate baseline
result_base = qt.mesolve(H_base, initial, tlist, c_ops)
pop_base = [qt.expect(sum(sigmap.dag() * sigmap for sigmap in sigmap_list), state) for state in result_base.states]
ent_base = [von_neumann_entropy(state) for state in result_base.states]

# Plot results
plt.figure()
plt.plot(tlist, pop_phi, label='Population (φ-Modulated)')
plt.plot(tlist, pop_base, '--', label='Population (Baseline)')
plt.xlabel('Time')
plt.ylabel('Excited State Population')
plt.title('Biophoton Emission - Population Dynamics')
plt.legend()
plt.grid()
plt.show()

plt.figure()
plt.plot(tlist, ent_phi, label='Entropy (φ-Modulated)')
plt.plot(tlist, ent_base, '--', label='Entropy (Baseline)')
plt.xlabel('Time')
plt.ylabel('Von Neumann Entropy')
plt.title('Biophoton Emission - Entropy Dynamics')
plt.legend()
plt.grid()
plt.show()
