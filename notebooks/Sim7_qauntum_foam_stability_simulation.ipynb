{
 "cells": [
  {
   "cell_type": "markdown",
   "metadata": {},
   "source": [
    "# Simulation 7: Quantum Foam Stability with φ-Modulated Hamiltonian\n",
    "\n",
    "**Goal**: Simulate how quantum foam (random spacetime fluctuations) perturbs a two-qubit entangled system, and determine if φ-modulation (using the golden ratio) improves entanglement stability by reducing variance in concurrence.\n",
    "\n",
    "This simulation compares a base Hamiltonian with full-strength foam vs. a φ-enhanced version with higher base frequency and attenuated noise.\n",
    "\n",
    "**Key Metrics:**\n",
    "- Von Neumann Entropy $S = -\\mathrm{Tr}(\\rho \\log \\rho)$ (measures coherence)\n",
    "- Concurrence $C(\\rho)$ (measures entanglement)\n",
    "- Variance in Concurrence (lower = more stable under foam)"
   ]
  },
  {
   "cell_type": "code",
   "execution_count": null,
   "metadata": {},
   "outputs": [],
   "source": [
    "# Imports\n",
    "import qutip as qt\n",
    "import numpy as np\n",
    "from numpy import sqrt, log\n",
    "import matplotlib.pyplot as plt"
   ]
  },
  {
   "cell_type": "markdown",
   "metadata": {},
   "source": [
    "## Define helper functions"
   ]
  },
  {
   "cell_type": "code",
   "execution_count": null,
   "metadata": {},
   "outputs": [],
   "source": [
    "def von_neumann_entropy(rho):\n",
    "    evals = np.linalg.eigvalsh(rho.full())\n",
    "    evals = evals[evals > 1e-10]  # Avoid log(0)\n",
    "    return -np.sum(evals * np.log(evals))"
   ]
  },
  {
   "cell_type": "markdown",
   "metadata": {},
   "source": [
    "## Set simulation constants"
   ]
  },
  {
   "cell_type": "code",
   "execution_count": null,
   "metadata": {},
   "outputs": [],
   "source": [
    "N = 2  # 2-qubit system\n",
    "gamma = 0.1  # Decoherence rate\n",
    "omega = 1.0  # Base frequency\n",
    "phi = (1 + np.sqrt(5)) / 2  # Golden ratio\n",
    "tlist = np.linspace(0, 10, 100)  # Time evolution\n",
    "np.random.seed(42)  # Reproducibility"
   ]
  },
  {
   "cell_type": "markdown",
   "metadata": {},
   "source": [
    "## Construct base Hamiltonian + foam perturbations"
   ]
  },
  {
   "cell_type": "code",
   "execution_count": null,
   "metadata": {},
   "outputs": [],
   "source": [
    "# Base H: ω * (σz ⊗ I + I ⊗ σz) / 2\n",
    "H_base = omega * (qt.tensor(qt.sigmaz(), qt.qeye(2)) + qt.tensor(qt.qeye(2), qt.sigmaz())) / 2\n",
    "\n",
    "# Foam: Random σx/σy terms with small magnitude (ε ≈ 0.01)\n",
    "foam_ops = [\n",
    "    np.random.randn() * 0.01 * qt.tensor(qt.sigmax(), qt.qeye(2)),\n",
    "    np.random.randn() * 0.01 * qt.tensor(qt.qeye(2), qt.sigmax()),\n",
    "    np.random.randn() * 0.01 * qt.tensor(qt.sigmay(), qt.qeye(2)),\n",
    "    np.random.randn() * 0.01 * qt.tensor(qt.qeye(2), qt.sigmay())\n",
    "]\n",
    "\n",
    "H_foam_base = H_base + sum(foam_ops)"
   ]
  },
  {
   "cell_type": "markdown",
   "metadata": {},
   "source": [
    "## Define collapse operators (decoherence)"
   ]
  },
  {
   "cell_type": "code",
   "execution_count": null,
   "metadata": {},
   "outputs": [],
   "source": [
    "c_ops = [\n",
    "    sqrt(gamma) * qt.tensor(qt.sigmam(), qt.qeye(2)),\n",
    "    sqrt(gamma) * qt.tensor(qt.qeye(2), qt.sigmam())\n",
    "]"
   ]
  },
  {
   "cell_type": "markdown",
   "metadata": {},
   "source": [
    "## Initial state: Bell state (max entangled)"
   ]
  },
  {
   "cell_type": "code",
   "execution_count": null,
   "metadata": {},
   "outputs": [],
   "source": [
    "psi0 = (qt.tensor(qt.basis(2, 0), qt.basis(2, 0)) + qt.tensor(qt.basis(2, 1), qt.basis(2, 1))).unit()"
   ]
  },
  {
   "cell_type": "markdown",
   "metadata": {},
   "source": [
    "## Run base simulation"
   ]
  },
  {
   "cell_type": "code",
   "execution_count": null,
   "metadata": {},
   "outputs": [],
   "source": [
    "result_base = qt.mesolve(H_foam_base, psi0, tlist, c_ops)\n",
    "ent_base = [von_neumann_entropy(state) for state in result_base.states]\n",
    "conc_base = [qt.concurrence(state) for state in result_base.states]"
   ]
  },
  {
   "cell_type": "markdown",
   "metadata": {},
   "source": [
    "## Create φ-modulated version (resonant boost and foam damping)"
   ]
  },
  {
   "cell_type": "code",
   "execution_count": null,
   "metadata": {},
   "outputs": [],
   "source": [
    "H_phi = omega * phi * (qt.tensor(qt.sigmaz(), qt.qeye(2)) + qt.tensor(qt.qeye(2), qt.sigmaz())) / 2\n",
    "foam_ops_phi = [f * (1 / phi) for f in foam_ops]  # Dampen foam\n",
    "H_foam_phi = H_phi + sum(foam_ops_phi)\n",
    "result_phi = qt.mesolve(H_foam_phi, psi0, tlist, c_ops)\n",
    "ent_phi = [von_neumann_entropy(state) for state in result_phi.states]\n",
    "conc_phi = [qt.concurrence(state) for state in result_phi.states]"
   ]
  },
  {
   "cell_type": "markdown",
   "metadata": {},
   "source": [
    "## Plotting and Summary"
   ]
  },
  {
   "cell_type": "code",
   "execution_count": null,
   "metadata": {},
   "outputs": [],
   "source": [
    "plt.plot(tlist, conc_base, label='Base')\n",
    "plt.plot(tlist, conc_phi, label='φ-Modulated')\n",
    "plt.title('Concurrence over Time')\n",
    "plt.xlabel('Time')\n",
    "plt.ylabel('Concurrence')\n",
    "plt.legend()\n",
    "plt.grid(True)\n",
    "plt.show()\n",
    "\n",
    "print(\"Base Concurrence Variance:\", np.var(conc_base))\n",
    "print(\"φ-Modulated Concurrence Variance:\", np.var(conc_phi))"
   ]
  }
 ],
 "metadata": {
  "kernelspec": {
   "display_name": "Python 3",
   "language": "python",
   "name": "python3"
  },
  "language_info": {
   "name": "python",
   "version": ""
  }
 },
 "nbformat": 4,
 "nbformat_minor": 5
}
