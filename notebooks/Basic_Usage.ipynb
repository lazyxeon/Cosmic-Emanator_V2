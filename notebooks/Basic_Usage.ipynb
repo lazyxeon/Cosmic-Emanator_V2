{
 "cells": [
  {
   "cell_type": "markdown",
   "metadata": {},
   "source": [
    "# Basic Usage: Cosmic Emanator TFNP Layer\n",
    "A minimal demo showing the TFNP layer on a random input tensor."
   ]
  },
  {
   "cell_type": "code",
   "execution_count": null,
   "metadata": {},
   "outputs": [],
   "source": [
    "import sys\n",
    "sys.path.append('../src')\n",
    "from tfnp_layer import TFNPLayer\n",
    "import torch\n",
    "\n",
    "model = TFNPLayer(3, 64)\n",
    "input_tensor = torch.rand(1, 3, 32, 32)\n",
    "output = model(input_tensor, t=1.0)\n",
    "print(output.shape)"
   ]
  }
 ],
 "metadata": {
  "kernelspec": {
   "display_name": "Python 3",
   "language": "python",
   "name": "python3"
  },
  "language_info": {
   "name": "python",
   "version": "3.10"
  }
 },
 "nbformat": 4,
 "nbformat_minor": 4
}
