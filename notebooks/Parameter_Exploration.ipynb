{
  "cells": [
    {
      "cell_type": "markdown",
      "metadata": {},
      "source": [
        "# TFNP Parameter Exploration\n",
        "Explore how `alpha`, `phi`, and `f` affect the output. Visualizes transformations based on cosmic math (e.g., phase shifts with α=7/2 default)."
      ]
    },
    {
      "cell_type": "code",
      "execution_count": null,
      "metadata": {},
      "outputs": [],
      "source": [
        "import torch\n",
        "from src.tfnp_layer import TFNPLayer\n",
        "import matplotlib.pyplot as plt\n",
        "import numpy as np\n",
        "\n",
        "# Fixed input for consistency\n",
        "x = torch.rand(1, 3, 32, 32)\n",
        "\n",
        "# Visualize input (channel 0)\n",
        "plt.imshow(x[0, 0].numpy(), cmap='viridis')\n",
        "plt.title('Input Channel 0')\n",
        "plt.colorbar()\n",
        "plt.show()\n",
        "\n",
        "# Vary alpha (phase shift factor)\n",
        "alphas = [2.0, 3.5, 5.0]\n",
        "for alpha in alphas:\n",
        "    model = TFNPLayer(3, 1, alpha=alpha)  # 1 channel for viz\n",
        "    y = model(x, t=1.0).detach().numpy()[0, 0]\n",
        "    plt.imshow(y, cmap='viridis')\n",
        "    plt.title(f'Output for alpha={alpha} (Phase Shift)')\n",
        "    plt.colorbar()\n",
        "    plt.show()\n",
        "\n",
        "# Vary f (frequency in sinusoidal activation, assuming it's a param)\n",
        "fs = [0.5, 1.0, 2.0]  # If f is exposed; else adjust in layer\n",
        "for f in fs:\n",
        "    model = TFNPLayer(3, 1, f=f)  # Assuming f is a constructor arg\n",
        "    y = model(x, t=1.0).detach().numpy()[0, 0]\n",
        "    plt.imshow(y, cmap='viridis')\n",
        "    plt.title(f'Output for f={f} (Sinusoidal Frequency)')\n",
        "    plt.colorbar()\n",
        "    plt.show()"
      ]
    }
  ],
  "metadata": {
    "kernelspec": {
      "display_name": "Python 3",
      "language": "python",
      "name": "python3"
    },
    "language_info": {
      "name": "python",
      "version": "3.11"
    }
  },
  "nbformat": 4,
  "nbformat_minor": 4
}
